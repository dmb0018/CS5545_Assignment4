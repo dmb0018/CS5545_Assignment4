{
  "nbformat": 4,
  "nbformat_minor": 0,
  "metadata": {
    "colab": {
      "provenance": [],
      "authorship_tag": "ABX9TyMkxrq3e/hFascuGYcauTow",
      "include_colab_link": true
    },
    "kernelspec": {
      "name": "python3",
      "display_name": "Python 3"
    },
    "language_info": {
      "name": "python"
    }
  },
  "cells": [
    {
      "cell_type": "markdown",
      "metadata": {
        "id": "view-in-github",
        "colab_type": "text"
      },
      "source": [
        "<a href=\"https://colab.research.google.com/github/dmb0018/CS5545_Assignment4/blob/main/HighLevelReverseString.ipynb\" target=\"_parent\"><img src=\"https://colab.research.google.com/assets/colab-badge.svg\" alt=\"Open In Colab\"/></a>"
      ]
    },
    {
      "cell_type": "code",
      "execution_count": 1,
      "metadata": {
        "colab": {
          "base_uri": "https://localhost:8080/"
        },
        "id": "OY4Qa_lIPgPK",
        "outputId": "ddb1696a-e446-42b9-a72a-98b78219a9a8"
      },
      "outputs": [
        {
          "name": "stdout",
          "output_type": "stream",
          "text": [
            "Please input a string: This is a test\n"
          ]
        }
      ],
      "source": [
        "# Get input from user for string to reverse\n",
        "string_to_reverse = input(\"Please input a string: \")"
      ]
    },
    {
      "cell_type": "code",
      "source": [
        "# Obtain number of letters in string\n",
        "letters_in_string = len(string_to_reverse)\n",
        "\n",
        "reversed_string = \"\" # Create new empty string to hold the reversed string\n",
        "\n",
        "reverse_counter = letters_in_string-1; # Counter to use to take each letter at a time\n",
        "\n",
        "# For loop to go through one character at a time and add it to new string (in reverse)\n",
        "for i in range(letters_in_string):\n",
        "  reversed_string += string_to_reverse[reverse_counter]\n",
        "  reverse_counter = reverse_counter - 1\n",
        "\n",
        "# Print reversed string\n",
        "print(reversed_string)\n",
        "\n"
      ],
      "metadata": {
        "colab": {
          "base_uri": "https://localhost:8080/"
        },
        "id": "wCK4Wp5TQHfO",
        "outputId": "f43f4918-5d66-4501-f428-a3c357f0a446"
      },
      "execution_count": 2,
      "outputs": [
        {
          "output_type": "stream",
          "name": "stdout",
          "text": [
            "tset a si sihT\n"
          ]
        }
      ]
    }
  ]
}